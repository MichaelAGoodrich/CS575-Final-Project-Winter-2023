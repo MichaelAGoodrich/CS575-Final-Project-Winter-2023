{
 "cells": [
  {
   "attachments": {},
   "cell_type": "markdown",
   "metadata": {},
   "source": [
    "Shared document to build and understand the suicide rate knowledge graph.\n",
    "\n",
    "CS 575\n",
    "Winter 2023\n",
    "\n",
    "Brigham Young University"
   ]
  },
  {
   "attachments": {},
   "cell_type": "markdown",
   "metadata": {},
   "source": [
    "***\n",
    "It helps to start with an overview of the data"
   ]
  },
  {
   "cell_type": "code",
   "execution_count": 1,
   "metadata": {},
   "outputs": [
    {
     "name": "stdout",
     "output_type": "stream",
     "text": [
      "   country  year     sex          age  suicides_no  population  suicides_pop   \n",
      "0  Albania  1987    male  15-24 years           21      312900          6.71  \\\n",
      "1  Albania  1987    male  35-54 years           16      308000          5.19   \n",
      "2  Albania  1987  female  15-24 years           14      289700          4.83   \n",
      "3  Albania  1987    male    75+ years            1       21800          4.59   \n",
      "4  Albania  1987    male  25-34 years            9      274300          3.28   \n",
      "\n",
      "  country-year  HDI_for_year  gdp_for_year  gdp_per_capita       generation  \n",
      "0  Albania1987           NaN    2156624900             796     Generation X  \n",
      "1  Albania1987           NaN    2156624900             796           Silent  \n",
      "2  Albania1987           NaN    2156624900             796     Generation X  \n",
      "3  Albania1987           NaN    2156624900             796  G.I. Generation  \n",
      "4  Albania1987           NaN    2156624900             796          Boomers  \n"
     ]
    }
   ],
   "source": [
    "from DatabaseManager import DatabaseManager # I don't know if it's good form to do this or not\n",
    "database = DatabaseManager('datasets/suicide_rates_by_category.csv')\n",
    "database.showHead()\n"
   ]
  },
  {
   "cell_type": "code",
   "execution_count": 2,
   "metadata": {},
   "outputs": [
    {
     "name": "stdout",
     "output_type": "stream",
     "text": [
      "<class 'pandas.core.frame.DataFrame'>\n",
      "RangeIndex: 27820 entries, 0 to 27819\n",
      "Data columns (total 12 columns):\n",
      " #   Column          Non-Null Count  Dtype  \n",
      "---  ------          --------------  -----  \n",
      " 0   country         27820 non-null  object \n",
      " 1   year            27820 non-null  int64  \n",
      " 2   sex             27820 non-null  object \n",
      " 3   age             27820 non-null  object \n",
      " 4   suicides_no     27820 non-null  int64  \n",
      " 5   population      27820 non-null  int64  \n",
      " 6   suicides_pop    27820 non-null  float64\n",
      " 7   country-year    27820 non-null  object \n",
      " 8   HDI_for_year    8364 non-null   float64\n",
      " 9   gdp_for_year    27820 non-null  int64  \n",
      " 10  gdp_per_capita  27820 non-null  int64  \n",
      " 11  generation      27820 non-null  object \n",
      "dtypes: float64(2), int64(5), object(5)\n",
      "memory usage: 2.5+ MB\n",
      "None\n"
     ]
    }
   ],
   "source": [
    "database.showInfo()\n",
    "del database \n",
    "# I don't want to get confused later on in the notebook. \n",
    "# Deleting the database object will help keep small notebook blocks self contained.\n"
   ]
  },
  {
   "attachments": {},
   "cell_type": "markdown",
   "metadata": {},
   "source": [
    "***\n",
    "We now need to decide on the graph schema. The DatabaseManager and GraphDatabaseManager classes depend on the graph schema we choose. The following schema just groups creates a node for each relevant row-column entry. We'd have to figure out how to merge things we care about later. Ignoring a lot of the columns for now.\n",
    "\n",
    "![Graph schema version 0 of suicide database](GraphSchema_version0.svg)"
   ]
  },
  {
   "attachments": {},
   "cell_type": "markdown",
   "metadata": {},
   "source": [
    "A challenge with this kind of graph schema is merging nodes into meta categories. A second challenge is that suicide rate is a number which means that we could end up with one suicide rate number for every entry in the table. Let's address the second challenge by finding natural bins into which we can group suicide rates."
   ]
  },
  {
   "cell_type": "code",
   "execution_count": 4,
   "metadata": {},
   "outputs": [
    {
     "data": {
      "image/png": "[encoded data removed]",
      "text/plain": [
       "<Figure size 640x480 with 1 Axes>"
      ]
     },
     "metadata": {},
     "output_type": "display_data"
    }
   ],
   "source": [
    "import pandas as pd\n",
    "import seaborn as sns\n",
    "import matplotlib.pyplot as plt\n",
    "import numpy as np \n",
    "\n",
    "# Code patterned after https://www.kaggle.com/code/chingchunyeh/suicide-rates-overview-1985-to-2016\n",
    "df = pd.read_csv('datasets/suicide_rates_by_category.csv')\n",
    "df.rename(columns={\"suicides/100k pop\":\"suicides_per_100k\",\"HDI for year\":\"HDI_for_year\",\n",
    "                  \" gdp_for_year ($) \":\"gdp_for_year\",\" gdp_per_capita ($) \":\"gdp_per_capita\",\n",
    "                    \"gdp_per_capita ($)\":\"gdp_per_capita\"}, inplace=True)\n",
    "#df.head()\n",
    "sns.histplot(data=df,x=\"suicides_per_100k\")\n",
    "plt.show()\n",
    "\n"
   ]
  },
  {
   "attachments": {},
   "cell_type": "markdown",
   "metadata": {},
   "source": [
    "It looks to me like bins of around 25 will work well. This gives\n",
    " - 0-24\n",
    " - 25-49\n",
    " - 50-74\n",
    " - 75-99\n",
    " - 100-124\n",
    " - 125-149\n",
    " - 150-300 "
   ]
  }
 ],
 "metadata": {
  "kernelspec": {
   "display_name": ".venv",
   "language": "python",
   "name": "python3"
  },
  "language_info": {
   "codemirror_mode": {
    "name": "ipython",
    "version": 3
   },
   "file_extension": ".py",
   "mimetype": "text/x-python",
   "name": "python",
   "nbconvert_exporter": "python",
   "pygments_lexer": "ipython3",
   "version": "3.11.2"
  },
  "orig_nbformat": 4
 },
 "nbformat": 4,
 "nbformat_minor": 2
}
