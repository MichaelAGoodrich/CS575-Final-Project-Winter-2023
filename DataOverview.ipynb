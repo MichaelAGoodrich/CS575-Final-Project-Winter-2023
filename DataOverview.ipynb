{
 "cells": [
  {
   "attachments": {},
   "cell_type": "markdown",
   "metadata": {},
   "source": [
    "Shared document to build and understand the suicide rate knowledge graph.\n",
    "\n",
    "CS 575\n",
    "Winter 2023\n",
    "\n",
    "Brigham Young University"
   ]
  },
  {
   "attachments": {},
   "cell_type": "markdown",
   "metadata": {},
   "source": [
    "***\n",
    "Introduce dataset"
   ]
  },
  {
   "cell_type": "code",
   "execution_count": 1,
   "metadata": {},
   "outputs": [],
   "source": [
    "from DatabaseManager import DatabaseManager # I don't know if it's good form to do this or not\n",
    "database = DatabaseManager('datasets/suicide_rates_by_category.csv')\n",
    "database.printDatabaseOverview()\n"
   ]
  }
 ],
 "metadata": {
  "kernelspec": {
   "display_name": ".venv",
   "language": "python",
   "name": "python3"
  },
  "language_info": {
   "codemirror_mode": {
    "name": "ipython",
    "version": 3
   },
   "file_extension": ".py",
   "mimetype": "text/x-python",
   "name": "python",
   "nbconvert_exporter": "python",
   "pygments_lexer": "ipython3",
   "version": "3.11.2"
  },
  "orig_nbformat": 4
 },
 "nbformat": 4,
 "nbformat_minor": 2
}
